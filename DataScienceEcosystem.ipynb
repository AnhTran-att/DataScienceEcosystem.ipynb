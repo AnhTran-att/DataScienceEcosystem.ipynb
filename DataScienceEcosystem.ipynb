{
 "cells": [
  {
   "cell_type": "markdown",
   "id": "43cb9b30-2076-4daa-b396-8ad894c0b6e9",
   "metadata": {},
   "source": [
    "# Data Science Tools and Ecosystem"
   ]
  },
  {
   "cell_type": "markdown",
   "id": "371c81a9-2d57-4ddc-bee9-85f6eb8277f3",
   "metadata": {},
   "source": [
    "In this notebook, Data Science Tools and Ecosystem are summarized."
   ]
  },
  {
   "cell_type": "markdown",
   "id": "b615c23f-5dd2-4d59-9aa7-daf0f1d37d38",
   "metadata": {},
   "source": [
    "Some of the popular languages that Data Science use are:\n",
    "1. Python\n",
    "2. R\n",
    "3. C++\n",
    "4. SQL\n",
    "5. Java etc...;"
   ]
  },
  {
   "cell_type": "markdown",
   "id": "69088880-c9c1-4d54-93f1-0fec6acbff72",
   "metadata": {},
   "source": [
    "Some of the commonly used libraries used by Data Sciencetist include:\n",
    "1. TensorFlow.\n",
    "2. NumPy.\n",
    "3. Scipy.\n",
    "4. Pandas.\n",
    "5. Matplotlib.\n",
    "6. Keras.\n",
    "7. SciKit-Learn.\n",
    "8. PyTorch. etc..."
   ]
  },
  {
   "cell_type": "markdown",
   "id": "44e9af92-a8ab-443f-956d-7be1c1a4a03c",
   "metadata": {},
   "source": [
    "|Data Science Tools|\n",
    "|---|\n",
    "|SAS|\n",
    "|Apache Hadoop|\n",
    "|Tensor Flow|"
   ]
  },
  {
   "cell_type": "markdown",
   "id": "88202935-2c5c-4aba-936e-c4d6e3283142",
   "metadata": {},
   "source": [
    "### Below are a few examples of evaluating arithmetic expressions in Python."
   ]
  },
  {
   "cell_type": "code",
   "execution_count": null,
   "id": "93d8aec2-d23f-4f7d-aa22-3d3483dfa7e0",
   "metadata": {},
   "outputs": [],
   "source": [
    "# This is common arithmetic example to multiply and then add integers\n",
    "(3*4) + 5"
   ]
  },
  {
   "cell_type": "code",
   "execution_count": null,
   "id": "8755f114-df83-4abf-81be-b077faecfbc8",
   "metadata": {},
   "outputs": [],
   "source": [
    "# This is will convert 200 minutes to hours by dividing by 60\n",
    "200//60"
   ]
  },
  {
   "cell_type": "markdown",
   "id": "36570ba8-f76c-46dd-b03e-549a33a109de",
   "metadata": {},
   "source": [
    "_Objective_\n",
    "* List popular languages for Data Science\n",
    "* List popular libraries for Data Science\n",
    "* List of Well known Data Sience Tools\n",
    "* How to Provide comments in the cell"
   ]
  },
  {
   "cell_type": "markdown",
   "id": "30917206-aa32-4697-9191-907d7dba2db1",
   "metadata": {},
   "source": [
    "## Author\n",
    "Anh Tran"
   ]
  },
  {
   "cell_type": "code",
   "execution_count": null,
   "id": "585f302d-0cb3-4e09-8c52-8bc549611892",
   "metadata": {},
   "outputs": [],
   "source": []
  }
 ],
 "metadata": {
  "kernelspec": {
   "display_name": "Python 3 (ipykernel)",
   "language": "python",
   "name": "python3"
  },
  "language_info": {
   "codemirror_mode": {
    "name": "ipython",
    "version": 3
   },
   "file_extension": ".py",
   "mimetype": "text/x-python",
   "name": "python",
   "nbconvert_exporter": "python",
   "pygments_lexer": "ipython3",
   "version": "3.13.0"
  }
 },
 "nbformat": 4,
 "nbformat_minor": 5
}
